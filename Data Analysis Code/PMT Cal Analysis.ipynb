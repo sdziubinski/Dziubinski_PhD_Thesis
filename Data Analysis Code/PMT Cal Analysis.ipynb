{
 "cells": [
  {
   "cell_type": "code",
   "execution_count": 1,
   "metadata": {},
   "outputs": [
    {
     "name": "stdout",
     "output_type": "stream",
     "text": [
      "/Users/sean/Desktop/Work/ELOSS/Code/PMT Calibration\n",
      "/Users/sean/Desktop/Work/ELOSS\n"
     ]
    }
   ],
   "source": [
    "# PMT Gain Correction Data Analysis #\n",
    "# _________________________________ #\n",
    "\n",
    "# imports\n",
    "import numpy as np\n",
    "import matplotlib.pyplot as plt\n",
    "#%matplotlib inline\n",
    "import pandas as pd\n",
    "import math\n",
    "import os\n",
    "\n",
    "print(os.getcwd())\n",
    "#if os.getcwd() == '/Users/sean/Desktop/Research/ELOSS/Scripts/PMT Calibration/':\n",
    "#    os.chdir('../')\n",
    "    #print(os.getcwd())\n",
    "    #os.chdir('../')\n",
    "#    print(os.getcwd())\n",
    "#elif os.getcwd() == '/Users/sean/Desktop/Research/ELOSS/Scripts':\n",
    "#    os.chdir('../')\n",
    "os.chdir('/Users/sean/Desktop/Work/ELOSS/')\n",
    "print(os.getcwd())\n",
    "\n",
    "# read in files as dataframes\n",
    "#df = pd.read_excel('Data/PMT Gain Correction Data Analysis.xlsx')\n",
    "full_df = pd.read_excel('Data/UV PMT Calibration - Version 6.xlsx', sheet_name=[0,1],usecols=\"B:R\")\n",
    "original_df = pd.read_excel('Data/Original PMT Cal Data.xlsm', sheet_name=1,usecols=\"A:J\")\n",
    "\n",
    "pmts = np.arange(1,121)\n",
    "led1_short = full_df[0].iloc[::3][:-1]\n",
    "led2_short = full_df[0].iloc[1::3]\n",
    "led3_short = full_df[0].iloc[2::3]\n",
    "led1_long = full_df[1].iloc[::3][:-1]\n",
    "led2_long = full_df[1].iloc[1::3]\n",
    "led3_long = full_df[1].iloc[2::3]\n",
    "\n",
    "led1 = pd.concat([led1_short, led1_long], ignore_index=True)\n",
    "led2 = pd.concat([led2_short, led2_long], ignore_index=True)\n",
    "led3 = pd.concat([led3_short, led3_long], ignore_index=True)\n",
    "led2['PMT#'], led3['PMT#'] = led1['PMT#'], led1['PMT#']\n",
    "led1 = led1.sort_values(by=['PMT#'])\n",
    "led2 = led2.sort_values(by=['PMT#'])\n",
    "led3 = led3.sort_values(by=['PMT#'])\n",
    "\n",
    "original_df = original_df.sort_values(by=['PMT'])\n",
    "\n",
    "# Remove elements that are not numbers\n",
    "clean_led1 = [x for x in list(led1['Calibrated']) if isinstance(x, (int, float)) and math.isnan(x)==False]\n",
    "clean_led2 = [x for x in list(led2['Calibrated']) if isinstance(x, (int, float)) and math.isnan(x)==False]\n",
    "clean_led3 = [x for x in list(led3['Calibrated']) if isinstance(x, (int, float)) and math.isnan(x)==False]\n"
   ]
  },
  {
   "cell_type": "code",
   "execution_count": null,
   "metadata": {},
   "outputs": [],
   "source": [
    "corrections1 = np.zeros(len(led1['PMT#']))\n",
    "for i in range(len(led1['PMT#'])):\n",
    "    if isinstance(led1['Calibrated 2'][i], (int, float)) and math.isnan(led1['Calibrated 2'][i])==False: \n",
    "        corrections1[i] = led1['Calibrated 2'][i]\n",
    "    elif isinstance(led1['Calibrated'][i], (int, float)) and math.isnan(led1['Calibrated'][i])==False:\n",
    "        corrections1[i] = led1['Calibrated'][i]\n",
    "    else:\n",
    "        corrections1[i] = 0\n",
    "corrections2 = np.zeros(len(led1['PMT#']))\n",
    "for i in range(len(led2['PMT#'])):\n",
    "    if isinstance(led2['Calibrated 2'][i], (int, float)) and math.isnan(led2['Calibrated 2'][i])==False: \n",
    "        corrections2[i] = led2['Calibrated 2'][i]\n",
    "    elif isinstance(led2['Calibrated'][i], (int, float)) and math.isnan(led2['Calibrated'][i])==False:\n",
    "        corrections2[i] = led2['Calibrated'][i]\n",
    "    else:\n",
    "        corrections2[i] = 0\n",
    "corrections3 = np.zeros(len(led3['PMT#']))\n",
    "for i in range(len(led3['PMT#'])):\n",
    "    if isinstance(led3['Calibrated 2'][i], (int, float)) and math.isnan(led3['Calibrated 2'][i])==False: \n",
    "        corrections3[i] = led3['Calibrated 2'][i]\n",
    "    elif isinstance(led3['Calibrated'][i], (int, float)) and math.isnan(led3['Calibrated'][i])==False:\n",
    "        corrections3[i] = led3['Calibrated'][i]\n",
    "    else:\n",
    "        corrections3[i] = 0"
   ]
  },
  {
   "cell_type": "code",
   "execution_count": null,
   "metadata": {},
   "outputs": [],
   "source": [
    "pe_led1 = (np.array(led1['800 V']) - np.mean(np.array(led1['800 V'])))/np.mean(np.array(led1['800 V']))\n",
    "pe_led2 = (np.array(led2['800 V']) - np.mean(np.array(led2['800 V'])))/np.mean(np.array(led2['800 V']))\n",
    "pec_led1 = (clean_led1 - np.mean(clean_led1))/np.mean(clean_led1)\n",
    "pec_led2 = (clean_led2 - np.mean(clean_led2))/np.mean(clean_led2)\n",
    "pec2_led1 = (corrections1 - np.mean(corrections1))/np.mean(corrections1)\n",
    "pec2_led2 = (corrections2 - np.mean(corrections2))/np.mean(corrections2)\n",
    "# Replace entries containing \"saturates\" with 66000\n",
    "for i in range(len(led3['800 V'])):\n",
    "    if led3['800 V'].iloc[i] == 'saturates' or led3['800 V'].iloc[i] == 'Saturates':\n",
    "        led3['800 V'].iloc[i] = 66000\n",
    "\n",
    "pe_led3 = (np.array(led3['800 V']) - np.mean(np.array(led3['800 V'])))/np.mean(np.array(led3['800 V']))\n",
    "pec_led3 = (clean_led3 - np.mean(clean_led3))/np.mean(clean_led3)\n",
    "pec2_led3 = (corrections3 - np.mean(corrections3))/np.mean(corrections3)\n",
    "norm_orig = (np.array(original_df['Gain @ 800 V'])/np.mean(np.array(original_df['Gain @ 800 V']))) - 1\n",
    " \n",
    "stdv1 = 0.01*2100\n",
    "stdv2 = 0.01*14000\n",
    "stdv3 = 0.01*45000\n",
    "\n",
    "pmt_range = range(len(led1['PMT#']))\n",
    "\n",
    "f, (ax1, ax2, ax3) = plt.subplots(1, 3, sharey=True, figsize=(12,5))\n",
    "ax1.bar(pmt_range,pe_led1*100, color='orange')\n",
    "ax1.bar(pmt_range,pe_led2*100, color='blue')\n",
    "ax1.bar(pmt_range,pe_led3*100, color='green')\n",
    "ax1.set_xlabel(\"PMT #\")\n",
    "ax1.set_ylabel(\"Percent Difference from the Mean\")\n",
    "ax1.set_title(\"Before Gain Correction w/ Voltage\")\n",
    "ax2.bar(range(len(pec_led1)),pec_led1*100, color='orange', label=\"LED1\")\n",
    "ax2.bar(range(len(pec_led2)),pec_led2*100, color='blue', label=\"LED2\")\n",
    "ax2.bar(range(len(pec_led2)),pec_led3*100, color='green', label=\"LED3\")\n",
    "ax2.set_xlabel(\"PMT #\")\n",
    "ax2.set_title(\"After Gain Correction w/ Fit Voltage\")\n",
    "ax2.legend(loc=\"lower center\")\n",
    "ax3.bar(pmt_range,pec2_led1*100, color='orange')\n",
    "ax3.bar(pmt_range,pec2_led2*100, color='blue')\n",
    "ax3.bar(pmt_range,pec2_led3*100, color='green')\n",
    "ax3.set_xlabel(\"PMT #\")\n",
    "#ax3.set_ylabel(\"Percent Difference from the Mean\")\n",
    "ax3.set_title(\"Final Gain Correction w/ Voltage\")\n",
    "print(\"Standard deviation of 800 V measurement (1, 2, 3): \",\n",
    "      round(np.std(led1['800 V']),2), round(np.std(led2['800 V']),2), round(np.std(led3['800 V'])),2)\n",
    "print(\"Standard deviation of 800 V measurement / Desired standard deviation (1, 2, 3): \",\n",
    "      round(np.std(led1['800 V'])/stdv1,2), round(np.std(led2['800 V'])/stdv2,2), round(np.std(led3['800 V'])/stdv3,2))"
   ]
  },
  {
   "cell_type": "code",
   "execution_count": null,
   "metadata": {},
   "outputs": [],
   "source": [
    "print(\"Standard deviation @ calibrated voltage (1, 2, 3): \",\n",
    "      np.std(clean_led1), np.std(clean_led2), np.std(clean_led3))\n",
    "print(\"Standard deviation (%) @ calibrated voltage (1, 2, 3): \",\n",
    "      np.std(clean_led1)/np.mean(clean_led1), np.std(clean_led2)/np.mean(clean_led2), np.std(clean_led3)/np.mean(clean_led3))\n",
    "print(\"Standard deviation @ calibrated voltage / target standard deviation (1, 2, 3): \",\n",
    "      round(np.std(clean_led1)/stdv1,2), round(np.std(clean_led2)/stdv2,2), round(np.std(clean_led3)/stdv3,2))\n",
    "\n",
    "print(\"Standard deviation (%) @ final calibrated voltage (1, 2, 3): \",\n",
    "      np.std(corrections1)/np.mean(corrections1), np.std(corrections2)/np.mean(corrections2), \n",
    "      np.std(corrections3)/np.mean(corrections3))\n"
   ]
  },
  {
   "cell_type": "code",
   "execution_count": null,
   "metadata": {},
   "outputs": [],
   "source": [
    "c1 = corrections1[corrections1 != 0]\n",
    "c2 = corrections2[corrections2 != 0]\n",
    "c3 = corrections3[corrections3 != 0]\n",
    "\n",
    "print(\"Standard deviation (%) @ final calibrated voltage (1, 2, 3): \",\n",
    "      np.std(c1)/np.mean(c1), np.std(c2)/np.mean(c2), \n",
    "      np.std(c3)/np.mean(c3))\n"
   ]
  },
  {
   "cell_type": "code",
   "execution_count": null,
   "metadata": {},
   "outputs": [],
   "source": [
    "diff1 = np.array(clean_led1) - 2100\n",
    "print(len(diff1[diff1<0])/len(diff1))\n",
    "diff2 = np.array(clean_led2) - 14000\n",
    "print(len(diff2[diff2<0])/len(diff2))\n",
    "diff3 = np.array(clean_led3) - 45000\n",
    "print(len(diff3[diff3<0])/len(diff3))"
   ]
  },
  {
   "cell_type": "code",
   "execution_count": null,
   "metadata": {},
   "outputs": [],
   "source": [
    "# Create two subplots and unpack the output array immediately\n",
    "f, (ax1, ax2, ax3) = plt.subplots(1, 3, sharey=True, figsize=(15,7))\n",
    "ax1.hist(clean_led1, bins=40, color='lightskyblue')\n",
    "ax1.plot([2100,2100],[0,12],c='red', linestyle='dashed')\n",
    "ax1.set_xticks(np.arange(min(clean_led1),max(clean_led1)+1,(max(clean_led1)+1-min(clean_led1))/5))\n",
    "ax1.set_xlim(min(clean_led1)-(max(clean_led1)+1-min(clean_led1))/5,max(clean_led1))\n",
    "ax1.set_ylim(0,12)\n",
    "ax2.hist(clean_led2,bins=40)\n",
    "ax2.set_xticks(np.arange(min(clean_led2),max(clean_led2)+1,(max(clean_led2)+1-min(clean_led2))/5))\n",
    "ax3.hist(clean_led3,bins=40)\n",
    "ax3.set_xticks(np.arange(min(clean_led3),max(clean_led3)+1,(max(clean_led3)+1-min(clean_led3))/5))"
   ]
  },
  {
   "cell_type": "code",
   "execution_count": null,
   "metadata": {},
   "outputs": [],
   "source": [
    "#original_df['Gain @ 800 V']\n",
    "# Remove elements that are not numbers\n",
    "clean_led1o = [x for x in list(led1['Calibrated']) if isinstance(x, (int, float)) and math.isnan(x)==False]\n",
    "clean_led2o = [x for x in list(led2['Calibrated']) if isinstance(x, (int, float)) and math.isnan(x)==False]\n",
    "clean_led3o = [x for x in list(led3['Calibrated']) if isinstance(x, (int, float)) and math.isnan(x)==False]\n"
   ]
  },
  {
   "cell_type": "code",
   "execution_count": null,
   "metadata": {},
   "outputs": [],
   "source": [
    "#np.std(clean_led1o)/np.mean(clean_led1o), np.std(clean_led2o)/np.mean(clean_led2o), np.std(clean_led3o)/np.mean(clean_led3o)\n",
    "#np.std(clean_led1o), np.std(clean_led2o), np.std(clean_led3o)\n",
    "#np.mean(clean_led1o), np.mean(clean_led2o), np.mean(clean_led3o)\n",
    "\n",
    "X = np.ma.masked_equal(corrections1,0)\n",
    "Y = np.ma.masked_equal(corrections2,0)\n",
    "Z = np.ma.masked_equal(corrections3,0)\n",
    "#print(clean_led1ox)\n",
    "np.std(X)/np.mean(X), np.std(Y)/np.mean(Y), np.std(Z)/np.mean(Z)\n",
    "#np.std(X), np.std(Y), np.std(Z)\n",
    "#np.mean(X), np.mean(Y), np.mean(Z)"
   ]
  },
  {
   "cell_type": "markdown",
   "metadata": {},
   "source": [
    "### Compare the variations in sensitivities given from the old calibration to the new - before voltage gain correction. ###\n"
   ]
  },
  {
   "cell_type": "code",
   "execution_count": null,
   "metadata": {},
   "outputs": [],
   "source": [
    "led3['Drift Test @ 800 V']\n",
    "drift1 = [x for x in list(led1['Drift Test @ 800 V']) if isinstance(x, (int, float)) and math.isnan(x)==False]\n",
    "drift2 = [x for x in list(led2['Drift Test @ 800 V']) if isinstance(x, (int, float)) and math.isnan(x)==False]\n",
    "drift3 = [x for x in list(led3['Drift Test @ 800 V']) if isinstance(x, (int, float)) and math.isnan(x)==False]"
   ]
  },
  {
   "cell_type": "code",
   "execution_count": 3,
   "metadata": {},
   "outputs": [
    {
     "name": "stdout",
     "output_type": "stream",
     "text": [
      "Drop row 1\n",
      "Drop row 10\n",
      "Drop row 11\n",
      "Drop row 23\n",
      "Drop row 25\n",
      "Drop row 29\n",
      "Drop row 43\n",
      "Drop row 46\n",
      "Drop row 56\n",
      "Drop row 60\n",
      "Drop row 85\n",
      "Drop row 91\n"
     ]
    }
   ],
   "source": [
    "led3_c = led3\n",
    "rows=[]\n",
    "for i in range(len(led3)):\n",
    "    if isinstance(led3.loc[i,'800 V'],str) or math.isnan(led3.loc[i,'Drift Test @ 800 V']):\n",
    "        print(\"Drop row\", i)\n",
    "        rows.append(i)\n",
    "led3_d = led3_c.drop(rows)"
   ]
  },
  {
   "cell_type": "code",
   "execution_count": 5,
   "metadata": {},
   "outputs": [
    {
     "data": {
      "text/plain": [
       "<matplotlib.collections.PathCollection at 0x16c61fc50>"
      ]
     },
     "execution_count": 5,
     "metadata": {},
     "output_type": "execute_result"
    },
    {
     "data": {
      "image/png": "[encoded data removed]",
      "text/plain": [
       "<Figure size 640x480 with 1 Axes>"
      ]
     },
     "metadata": {},
     "output_type": "display_data"
    }
   ],
   "source": [
    "plt.scatter(led3_d['800 V'], led3_d['Drift Test @ 800 V'])"
   ]
  },
  {
   "cell_type": "code",
   "execution_count": 7,
   "metadata": {},
   "outputs": [],
   "source": [
    "led3_s = led3_d.loc[:,['800 V','Drift Test @ 800 V']]\n",
    "led3_s.to_csv(\"DriftTestData.csv\")"
   ]
  },
  {
   "cell_type": "code",
   "execution_count": null,
   "metadata": {},
   "outputs": [],
   "source": [
    "plt.figure(1)\n",
    "plt.hist(drift1,bins=5,label='Repeat', color='orange')\n",
    "plt.hist(corrections1,bins=5,label='Original',color='green')\n",
    "#plt.figure(2)\n",
    "plt.hist(drift2,bins=20,color='orange')\n",
    "plt.hist(corrections2,bins=20,color='green')\n",
    "#plt.figure(3)\n",
    "plt.hist(drift3,bins=40,color='orange')\n",
    "plt.hist(corrections3,bins=40,color='green')\n",
    "plt.xlabel(\"QDC Channel\", fontsize=15)\n",
    "plt.ylabel(\"Counts\",fontsize=15)\n",
    "plt.title(\"Original Calibration vs. Repeated Measurement\",fontsize=15)\n",
    "plt.legend()"
   ]
  },
  {
   "cell_type": "code",
   "execution_count": null,
   "metadata": {},
   "outputs": [],
   "source": [
    "np.mean(drift1)-np.mean(corrections1),np.mean(drift2)-np.mean(corrections2),np.mean(drift3)-np.mean(corrections3)\n",
    "#np.std(drift1),np.std(drift2),np.std(drift3)\n",
    "#np.std(drift1)/np.mean(drift1),np.std(drift2)/np.mean(drift2),np.std(drift3)/np.mean(drift3)"
   ]
  },
  {
   "cell_type": "code",
   "execution_count": null,
   "metadata": {},
   "outputs": [],
   "source": [
    "#print(np.mean(drift1),np.mean(drift2),np.mean(drift3))\n",
    "led1"
   ]
  },
  {
   "cell_type": "code",
   "execution_count": null,
   "metadata": {},
   "outputs": [],
   "source": [
    "pdif = []\n",
    "for i in range(len(led1['Drift Test @ 800 V'])):\n",
    "    if isinstance(led1.iloc[i,10], (int, float)) and math.isnan(led1.iloc[i,10])==False:\n",
    "        #print(abs(led1.iloc[i,10] - led1.iloc[i,7])/led1.iloc[i,7]*100)\n",
    "        pdif.append(abs(led1.iloc[i,10] - led1.iloc[i,7])/led1.iloc[i,7]*100)\n",
    "        \n",
    "#plt.hist(pdif)\n",
    "pdif = np.array(pdif)\n",
    "len(pdif[pdif<1.5])/120"
   ]
  },
  {
   "cell_type": "code",
   "execution_count": null,
   "metadata": {},
   "outputs": [],
   "source": [
    "pdif = []\n",
    "for i in range(len(led2['Drift Test @ 800 V'])):\n",
    "    if isinstance(led2.iloc[i,10], (int, float)) and math.isnan(led2.iloc[i,10])==False:\n",
    "        #print(abs(led2.iloc[i,10] - led2.iloc[i,7])/led2.iloc[i,7]*100)\n",
    "        pdif.append(abs(led2.iloc[i,10] - led2.iloc[i,7])/led2.iloc[i,7]*100)\n",
    "pdif = np.array(pdif)      \n",
    "len(pdif[pdif<1.5])/120"
   ]
  },
  {
   "cell_type": "code",
   "execution_count": null,
   "metadata": {},
   "outputs": [],
   "source": [
    "pdif = []\n",
    "for i in range(len(led3['Drift Test @ 800 V'])):\n",
    "    if isinstance(led3.iloc[i,10], (int, float)) and math.isnan(led3.iloc[i,10])==False:\n",
    "        #print(abs(led3.iloc[i,10] - led3.iloc[i,7])/led3.iloc[i,7]*100)\n",
    "        pdif.append(abs(led3.iloc[i,10] - led3.iloc[i,7])/led3.iloc[i,7]*100)\n",
    "        \n",
    "pdif = np.array(pdif)      \n",
    "len(pdif[pdif<1.5])/120"
   ]
  },
  {
   "cell_type": "code",
   "execution_count": null,
   "metadata": {},
   "outputs": [],
   "source": []
  }
 ],
 "metadata": {
  "kernelspec": {
   "display_name": "Python [conda env:base] *",
   "language": "python",
   "name": "conda-base-py"
  },
  "language_info": {
   "codemirror_mode": {
    "name": "ipython",
    "version": 3
   },
   "file_extension": ".py",
   "mimetype": "text/x-python",
   "name": "python",
   "nbconvert_exporter": "python",
   "pygments_lexer": "ipython3",
   "version": "3.12.2"
  }
 },
 "nbformat": 4,
 "nbformat_minor": 4
}
