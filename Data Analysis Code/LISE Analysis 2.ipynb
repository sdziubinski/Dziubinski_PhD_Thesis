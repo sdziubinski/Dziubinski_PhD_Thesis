{
 "cells": [
  {
   "cell_type": "code",
   "execution_count": 29,
   "id": "d9fd8707",
   "metadata": {},
   "outputs": [
    {
     "data": {
      "text/plain": [
       "'C:\\\\Users\\\\dziubins\\\\Home\\\\Research\\\\Energy Loss Optical Scintillation System\\\\Scripts'"
      ]
     },
     "execution_count": 29,
     "metadata": {},
     "output_type": "execute_result"
    }
   ],
   "source": [
    "import numpy as np\n",
    "import matplotlib.pyplot as plt\n",
    "import os\n",
    "import pandas as pd\n",
    "from PIL import Image\n",
    "os.getcwd()"
   ]
  },
  {
   "cell_type": "code",
   "execution_count": 3,
   "id": "cdfcf2ac",
   "metadata": {},
   "outputs": [],
   "source": [
    "colnames=['X (mm)','ToF (ns)','dE (MeV)','TKE (MeV)','Brho (T*m)','A/Q','A']\n",
    "stripper_ray_data = pd.read_table('..\\\\Data\\\\LISE++\\\\'+'MC_LISE4.ray', skiprows=6, delimiter=' ',\n",
    "                                  names=colnames, usecols=list(range(1,8)))\n",
    "CRDC1_ray_data = pd.read_table('..\\\\Data\\\\LISE++\\\\'+'MC_LISE4.ray', skiprows=6, delimiter=' ',\n",
    "                                  names=colnames, usecols=list(range(8,15)))\n",
    "IC_ray_data = pd.read_table('..\\\\Data\\\\LISE++\\\\'+'MC_LISE4.ray', skiprows=6, delimiter=' ',\n",
    "                                  names=colnames, usecols=list(range(15,22)))\n",
    "Scint1_ray_data = pd.read_table('..\\\\Data\\\\LISE++\\\\'+'MC_LISE4.ray', skiprows=6, delimiter=' ',\n",
    "                                  names=colnames, usecols=list(range(22,29)))"
   ]
  },
  {
   "cell_type": "code",
   "execution_count": 7,
   "id": "15216d40",
   "metadata": {},
   "outputs": [],
   "source": [
    "x = CRDC1_ray_data['X (mm)']\n",
    "ToF = Scint1_ray_data['ToF (ns)']\n",
    "dE = IC_ray_data['dE (MeV)']\n",
    "TKE = IC_ray_data['TKE (MeV)']\n",
    "Brho = CRDC1_ray_data['Brho (T*m)']"
   ]
  },
  {
   "cell_type": "code",
   "execution_count": 21,
   "id": "f97749e3",
   "metadata": {},
   "outputs": [
    {
     "name": "stdout",
     "output_type": "stream",
     "text": [
      "0       43.391419\n",
      "1       46.684635\n",
      "2       45.724846\n",
      "3       45.043041\n",
      "4       42.042754\n",
      "          ...    \n",
      "9995    43.876059\n",
      "9996    40.423542\n",
      "9997    43.039245\n",
      "9998    45.029443\n",
      "9999    45.640421\n",
      "Length: 10000, dtype: float64\n"
     ]
    }
   ],
   "source": [
    "L = 14 # m\n",
    "c = 3e8 # m/s\n",
    "beta = L/(c*ToF*1e-9)\n",
    "gamma = 1/np.sqrt(1-beta**2)\n",
    "#print(beta)\n",
    "\n",
    "Z = np.sqrt(dE*beta**2)\n",
    "Z += 48 - np.mean(Z)\n",
    "\n",
    "AoQ = Brho/(3.1071*beta*gamma)\n",
    "#print(AoQ)\n",
    "\n",
    "A = TKE/(931.494*(gamma-1))\n",
    "#print(A)\n",
    "\n",
    "Q = A/AoQ\n",
    "print(Q)"
   ]
  },
  {
   "cell_type": "code",
   "execution_count": 61,
   "id": "0483201b",
   "metadata": {},
   "outputs": [],
   "source": [
    "#print([int(aoq) for aoq in AoQ*10000])\n",
    "AoQ_ = [int(aoq) for aoq in AoQ*100]\n",
    "\n",
    "Z_ = [int(z) for z in Z*100]\n",
    "#AoQ*10000\n",
    "# Determine image size based on coordinate ranges\n",
    "max_x = max(AoQ_)\n",
    "max_y = max(Z_)\n",
    "min_x = min(AoQ_)\n",
    "min_y = min(Z_)\n",
    "image_width = max_x + 1 - min_x\n",
    "image_height = max_y + 1 - min_y\n",
    "#print(image_height,image_width)\n",
    "# Create a black image\n",
    "image_array = np.zeros((image_width, image_height), dtype=np.uint8)\n",
    "\n",
    "# Mark coordinates with white pixels\n",
    "#for x in range(image_width):\n",
    "#    for y in range(image_height):\n",
    "#        if AoQ_\n",
    "#        image_array[y,x] = 230\n",
    "    #image_array[y, x] = 255\n",
    "for i in range(len(Z_)):\n",
    "    image_array[AoQ_[i]-min_x,Z_[i]-min_y] += 10\n",
    "# Convert NumPy array to PIL Image\n",
    "image = Image.fromarray(image_array)\n",
    "image = image.convert('RGB')\n",
    "image.show() # Display the image\n",
    "# image.save(\"coordinates_image.png\") # Save the image"
   ]
  },
  {
   "cell_type": "code",
   "execution_count": 28,
   "id": "8fe3aa6c",
   "metadata": {},
   "outputs": [
    {
     "data": {
      "image/png": "[encoded data removed]",
      "text/plain": [
       "<Figure size 432x288 with 1 Axes>"
      ]
     },
     "metadata": {
      "needs_background": "light"
     },
     "output_type": "display_data"
    }
   ],
   "source": [
    "#plt.scatter(Q,Z,s=3)\n",
    "#plt.colorbar()\n",
    "fig = plt.figure()\n",
    "ax = fig.add_subplot(projection='3d')\n",
    "ax.scatter(A, Z, Q, marker='o')\n",
    "#angle_norm = (angle + 180) % 360 - 180\n",
    "elev=0\n",
    "azim=0\n",
    "ax.view_init(elev, azim)"
   ]
  },
  {
   "cell_type": "code",
   "execution_count": null,
   "id": "891ce2fb",
   "metadata": {},
   "outputs": [],
   "source": []
  }
 ],
 "metadata": {
  "kernelspec": {
   "display_name": "Python 3",
   "language": "python",
   "name": "python3"
  },
  "language_info": {
   "codemirror_mode": {
    "name": "ipython",
    "version": 3
   },
   "file_extension": ".py",
   "mimetype": "text/x-python",
   "name": "python",
   "nbconvert_exporter": "python",
   "pygments_lexer": "ipython3",
   "version": "3.8.8"
  }
 },
 "nbformat": 4,
 "nbformat_minor": 5
}
